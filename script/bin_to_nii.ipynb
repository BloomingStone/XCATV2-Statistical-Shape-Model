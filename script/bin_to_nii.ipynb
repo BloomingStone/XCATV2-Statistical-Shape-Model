{
 "cells": [
  {
   "cell_type": "code",
   "execution_count": null,
   "metadata": {},
   "outputs": [],
   "source": [
    "from pathlib import Path\n",
    "\n",
    "import numpy as np\n",
    "import nibabel as nib\n",
    "\n",
    "\n",
    "array_size = 256\n",
    "slice_num = 500\n",
    "\n",
    "pixel_width_mm = 3.125\n",
    "slice_width_mm = 3.125 \n",
    "spacing = (pixel_width_mm, pixel_width_mm, slice_width_mm) # (x, y, z)\n",
    "\n",
    "phatom_root_dir = Path.cwd().resolve().parent\n",
    "xcat_dir = phatom_root_dir / \"XCAT\"\n",
    "raw_root_dir = phatom_root_dir / \"output_raw\"\n",
    "assert xcat_dir.exists() and xcat_dir.is_dir()\n",
    "\n",
    "raw_prefix = \"output_test\"\n",
    "raw_dir = raw_root_dir / raw_prefix\n",
    "\n",
    "nii_dir = phatom_root_dir / \"output_nii\" / raw_prefix\n",
    "nii_dir.mkdir(parents=True, exist_ok=True)\n"
   ]
  },
  {
   "cell_type": "code",
   "execution_count": null,
   "metadata": {},
   "outputs": [
    {
     "name": "stdout",
     "output_type": "stream",
     "text": [
      "(256, 256, 500)\n"
     ]
    }
   ],
   "source": [
    "frame = 1\n",
    "raw_file = raw_dir / f\"{raw_prefix}_atn_{frame}.bin\"\n",
    "\n",
    "with open(raw_file, \"rb\") as f:\n",
    "    raw_data = np.fromfile(f, dtype=np.float32)\n",
    "\n",
    "expected_shape = (slice_num, array_size, array_size) # 原始轴顺序为(z, y, x)\n",
    "expected_size = np.prod(expected_shape)\n",
    "\n",
    "assert raw_data.size == expected_size\n",
    "data_3d = raw_data.reshape(expected_shape) # 原始轴顺序为(z, y, x)\n",
    "data_3d = data_3d.transpose(2, 1, 0) # 转换为(x, y, z)\n",
    "\n",
    "print(data_3d.shape)\n",
    "\n",
    "affine = np.eye(4)\n",
    "affine[(0,1,2), (0,1,2)] = spacing\n",
    "nii_img = nib.Nifti1Image(data_3d, affine)\n",
    "nib.save(nii_img, nii_dir / f\"{raw_prefix}_atn_{frame}.nii.gz\")"
   ]
  }
 ],
 "metadata": {
  "kernelspec": {
   "display_name": "Python 3",
   "language": "python",
   "name": "python3"
  },
  "language_info": {
   "codemirror_mode": {
    "name": "ipython",
    "version": 3
   },
   "file_extension": ".py",
   "mimetype": "text/x-python",
   "name": "python",
   "nbconvert_exporter": "python",
   "pygments_lexer": "ipython3",
   "version": "3.12.7"
  }
 },
 "nbformat": 4,
 "nbformat_minor": 2
}
