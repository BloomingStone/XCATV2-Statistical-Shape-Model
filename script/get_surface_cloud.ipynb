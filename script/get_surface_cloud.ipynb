{
 "cells": [
  {
   "cell_type": "code",
   "execution_count": 2,
   "id": "95a5bf5b",
   "metadata": {},
   "outputs": [],
   "source": [
    "from pathlib import Path\n",
    "\n",
    "import pyvista as pv\n",
    "import pyacvd\n",
    "import nibabel as nib\n",
    "import numpy as np\n",
    "\n",
    "\n",
    "pv.set_jupyter_backend('html')\n",
    "\n",
    "ssm_nii_dir = Path.cwd().parent / \"output_ssm_nii\"\n",
    "vtk_dir = Path.cwd().parent / \"output_ssm_vtk\""
   ]
  },
  {
   "cell_type": "code",
   "execution_count": null,
   "id": "0936ff2a",
   "metadata": {},
   "outputs": [
    {
     "name": "stdout",
     "output_type": "stream",
     "text": [
      "/media/data3/sj/Data/Phatom/output_ssm_vtk/male_pt184/label/ssm_000.vtk\n"
     ]
    },
    {
     "data": {
      "application/vnd.jupyter.widget-view+json": {
       "model_id": "a4770c07bebc4820b739b6938a52c2ed",
       "version_major": 2,
       "version_minor": 0
      },
      "text/plain": [
       "EmbeddableWidget(value='<iframe srcdoc=\"<!DOCTYPE html>\\n<html>\\n  <head>\\n    <meta http-equiv=&quot;Content-…"
      ]
     },
     "metadata": {},
     "output_type": "display_data"
    },
    {
     "name": "stdout",
     "output_type": "stream",
     "text": [
      "/media/data3/sj/Data/Phatom/output_ssm_vtk/male_pt184/label/ssm_003.vtk\n"
     ]
    },
    {
     "data": {
      "application/vnd.jupyter.widget-view+json": {
       "model_id": "ab38d48a3f9047238e39ff1ccd775b01",
       "version_major": 2,
       "version_minor": 0
      },
      "text/plain": [
       "EmbeddableWidget(value='<iframe srcdoc=\"<!DOCTYPE html>\\n<html>\\n  <head>\\n    <meta http-equiv=&quot;Content-…"
      ]
     },
     "metadata": {},
     "output_type": "display_data"
    },
    {
     "name": "stdout",
     "output_type": "stream",
     "text": [
      "/media/data3/sj/Data/Phatom/output_ssm_vtk/male_pt184/label/ssm_004.vtk\n"
     ]
    }
   ],
   "source": [
    "for ssm_case in ssm_nii_dir.iterdir():\n",
    "    if not ssm_case.is_dir():\n",
    "        continue\n",
    "    label_dir = ssm_case / \"label\"\n",
    "    for label_nii_file in label_dir.glob(\"*.nii.gz\"):\n",
    "        label_nii = nib.load(str(label_nii_file))\n",
    "        label_data = label_nii.get_fdata()\n",
    "        label_ids = sorted(np.unique(label_data).astype(np.int8))[1:]\n",
    "        surface_all = pv.PolyData()\n",
    "        vtk_file = vtk_dir / label_nii_file.relative_to(ssm_nii_dir).with_suffix('').with_suffix(\".vtk\")\n",
    "        print(vtk_file)\n",
    "        for label_id in label_ids:\n",
    "            assert label_id > 0\n",
    "            surface = pv.wrap((label_data == label_id).astype(np.uint8)).contour([1], method=\"flying_edges\").triangulate()\n",
    "            clus = pyacvd.Clustering(surface)\n",
    "            clus.subdivide(3)\n",
    "            clus.cluster(1000)\n",
    "            surface = clus.create_mesh()\n",
    "            surface.point_data[\"label\"] = np.ones(surface.n_points) * label_id\n",
    "            surface_all = surface_all.append_polydata(surface)\n",
    "        \n",
    "        surface_all.save(str(vtk_file))\n",
    "\n",
    "\n",
    "            \n"
   ]
  }
 ],
 "metadata": {
  "kernelspec": {
   "display_name": "Python 3",
   "language": "python",
   "name": "python3"
  },
  "language_info": {
   "codemirror_mode": {
    "name": "ipython",
    "version": 3
   },
   "file_extension": ".py",
   "mimetype": "text/x-python",
   "name": "python",
   "nbconvert_exporter": "python",
   "pygments_lexer": "ipython3",
   "version": "3.12.9"
  }
 },
 "nbformat": 4,
 "nbformat_minor": 5
}
