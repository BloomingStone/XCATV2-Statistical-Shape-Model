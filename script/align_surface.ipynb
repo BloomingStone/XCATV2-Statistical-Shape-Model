{
 "cells": [
  {
   "cell_type": "code",
   "execution_count": 3,
   "id": "f5ce7073",
   "metadata": {},
   "outputs": [
    {
     "name": "stdout",
     "output_type": "stream",
     "text": [
      "54\n"
     ]
    }
   ],
   "source": [
    "from pathlib import Path\n",
    "import logging\n",
    "\n",
    "import torchcpd\n",
    "import pyvista as pv\n",
    "import torch\n",
    "from tqdm import tqdm\n",
    "\n",
    "vtk_dir = Path.cwd().parent / \"output_ssm_vtk\"\n",
    "aligned_vtk_dir = Path.cwd().parent / \"output_ssm_vtk_aligned\"\n",
    "volume_points_cloud_dir = Path.cwd().parent / \"output_ssm_vtk_volume\"\n",
    "surface_vtk_files: dict[str: list[Path]] = {\n",
    "    case_dir.name: sorted(case_dir.glob(\"*.vtk\")) for case_dir in vtk_dir.iterdir() if case_dir.is_dir()\n",
    "}\n",
    "print(len(surface_vtk_files))\n",
    "\n",
    "logging.basicConfig(\n",
    "    filename='aligning_errors.log',\n",
    "    level=logging.ERROR,\n",
    "    format='%(asctime)s [%(levelname)s] %(filename)s:%(lineno)d - %(message)s',\n",
    "    encoding='utf-8'\n",
    ")"
   ]
  },
  {
   "cell_type": "code",
   "execution_count": null,
   "id": "de3a2d66",
   "metadata": {},
   "outputs": [
    {
     "name": "stdout",
     "output_type": "stream",
     "text": [
      "fix_case_name='female_pt106'\n"
     ]
    },
    {
     "name": "stderr",
     "output_type": "stream",
     "text": [
      "Processing phases:   0%|          | 0/10 [00:00<?, ?it/s]"
     ]
    },
    {
     "name": "stderr",
     "output_type": "stream",
     "text": [
      "Processing cases: 100%|██████████| 53/53 [03:12<00:00,  3.63s/it]\n",
      "Processing cases:  38%|███▊      | 20/53 [01:17<02:07,  3.87s/it]]\n",
      "Processing phases:  10%|█         | 1/10 [04:29<40:28, 269.83s/it]\n"
     ]
    },
    {
     "ename": "KeyboardInterrupt",
     "evalue": "",
     "output_type": "error",
     "traceback": [
      "\u001b[0;31m---------------------------------------------------------------------------\u001b[0m",
      "\u001b[0;31mKeyboardInterrupt\u001b[0m                         Traceback (most recent call last)",
      "Cell \u001b[0;32mIn[4], line 32\u001b[0m\n\u001b[1;32m     30\u001b[0m mov_surface \u001b[38;5;241m=\u001b[39m pv\u001b[38;5;241m.\u001b[39mread(mov_vtk_file)\n\u001b[1;32m     31\u001b[0m mov_point_cloud \u001b[38;5;241m=\u001b[39m pv\u001b[38;5;241m.\u001b[39mread(volume_points_cloud_dir \u001b[38;5;241m/\u001b[39m mov_vtk_file\u001b[38;5;241m.\u001b[39mrelative_to(vtk_dir))\n\u001b[0;32m---> 32\u001b[0m mov_surface \u001b[38;5;241m=\u001b[39m align_surface_rigid(\n\u001b[1;32m     33\u001b[0m     moving_surface\u001b[38;5;241m=\u001b[39mmov_surface,\n\u001b[1;32m     34\u001b[0m     moving_point_cloud\u001b[38;5;241m=\u001b[39mmov_point_cloud,\n\u001b[1;32m     35\u001b[0m     fixed_point_cloud\u001b[38;5;241m=\u001b[39mfix_point_cloud\n\u001b[1;32m     36\u001b[0m )\n\u001b[1;32m     37\u001b[0m new_vtk_file \u001b[38;5;241m=\u001b[39m aligned_vtk_dir \u001b[38;5;241m/\u001b[39m mov_vtk_file\u001b[38;5;241m.\u001b[39mrelative_to(vtk_dir)\n\u001b[1;32m     38\u001b[0m new_vtk_file\u001b[38;5;241m.\u001b[39mparent\u001b[38;5;241m.\u001b[39mmkdir(parents\u001b[38;5;241m=\u001b[39m\u001b[38;5;28;01mTrue\u001b[39;00m, exist_ok\u001b[38;5;241m=\u001b[39m\u001b[38;5;28;01mTrue\u001b[39;00m)\n",
      "Cell \u001b[0;32mIn[4], line 7\u001b[0m, in \u001b[0;36malign_surface_rigid\u001b[0;34m(moving_surface, moving_point_cloud, fixed_point_cloud)\u001b[0m\n\u001b[1;32m      5\u001b[0m res \u001b[38;5;241m=\u001b[39m moving_surface\u001b[38;5;241m.\u001b[39mcopy()\n\u001b[1;32m      6\u001b[0m reg \u001b[38;5;241m=\u001b[39m torchcpd\u001b[38;5;241m.\u001b[39mRigidRegistration(X\u001b[38;5;241m=\u001b[39mtarget_points[::\u001b[38;5;241m10\u001b[39m], Y\u001b[38;5;241m=\u001b[39msource_points[::\u001b[38;5;241m10\u001b[39m], device\u001b[38;5;241m=\u001b[39m\u001b[38;5;124m'\u001b[39m\u001b[38;5;124mcuda\u001b[39m\u001b[38;5;124m'\u001b[39m, scale\u001b[38;5;241m=\u001b[39m\u001b[38;5;28;01mFalse\u001b[39;00m)\n\u001b[0;32m----> 7\u001b[0m _, (s, R, t) \u001b[38;5;241m=\u001b[39m reg\u001b[38;5;241m.\u001b[39mregister()\n\u001b[1;32m      8\u001b[0m \u001b[38;5;66;03m# handel nan in translation:\u001b[39;00m\n\u001b[1;32m      9\u001b[0m \u001b[38;5;28;01mif\u001b[39;00m torch\u001b[38;5;241m.\u001b[39misnan(t)\u001b[38;5;241m.\u001b[39many():\n",
      "File \u001b[0;32m/media/data3/sj/Code/CPD-Pytorch/torchcpd/emregistration.py:155\u001b[0m, in \u001b[0;36mEMRegistration.register\u001b[0;34m(self, callback)\u001b[0m\n\u001b[1;32m    153\u001b[0m \u001b[38;5;28mself\u001b[39m\u001b[38;5;241m.\u001b[39mtransform_point_cloud()\n\u001b[1;32m    154\u001b[0m \u001b[38;5;28;01mwhile\u001b[39;00m \u001b[38;5;28mself\u001b[39m\u001b[38;5;241m.\u001b[39miteration \u001b[38;5;241m<\u001b[39m \u001b[38;5;28mself\u001b[39m\u001b[38;5;241m.\u001b[39mmax_iterations \u001b[38;5;129;01mand\u001b[39;00m \u001b[38;5;28mself\u001b[39m\u001b[38;5;241m.\u001b[39mdiff \u001b[38;5;241m>\u001b[39m \u001b[38;5;28mself\u001b[39m\u001b[38;5;241m.\u001b[39mtolerance:\n\u001b[0;32m--> 155\u001b[0m     \u001b[38;5;28mself\u001b[39m\u001b[38;5;241m.\u001b[39miterate()\n\u001b[1;32m    156\u001b[0m     \u001b[38;5;28;01mif\u001b[39;00m \u001b[38;5;28mcallable\u001b[39m(callback):\n\u001b[1;32m    157\u001b[0m         kwargs \u001b[38;5;241m=\u001b[39m {\u001b[38;5;124m'\u001b[39m\u001b[38;5;124miteration\u001b[39m\u001b[38;5;124m'\u001b[39m: \u001b[38;5;28mself\u001b[39m\u001b[38;5;241m.\u001b[39miteration,\n\u001b[1;32m    158\u001b[0m                   \u001b[38;5;124m'\u001b[39m\u001b[38;5;124merror\u001b[39m\u001b[38;5;124m'\u001b[39m: \u001b[38;5;28mself\u001b[39m\u001b[38;5;241m.\u001b[39mq\u001b[38;5;241m.\u001b[39mdetach()\u001b[38;5;241m.\u001b[39mcpu()\u001b[38;5;241m.\u001b[39mnumpy(), \u001b[38;5;124m'\u001b[39m\u001b[38;5;124mX\u001b[39m\u001b[38;5;124m'\u001b[39m: \u001b[38;5;28mself\u001b[39m\u001b[38;5;241m.\u001b[39mX, \u001b[38;5;124m'\u001b[39m\u001b[38;5;124mY\u001b[39m\u001b[38;5;124m'\u001b[39m: \u001b[38;5;28mself\u001b[39m\u001b[38;5;241m.\u001b[39mTY}\n",
      "File \u001b[0;32m/media/data3/sj/Code/CPD-Pytorch/torchcpd/emregistration.py:196\u001b[0m, in \u001b[0;36mEMRegistration.iterate\u001b[0;34m(self)\u001b[0m\n\u001b[1;32m    192\u001b[0m \u001b[38;5;250m\u001b[39m\u001b[38;5;124;03m\"\"\"\u001b[39;00m\n\u001b[1;32m    193\u001b[0m \u001b[38;5;124;03mPerform one iteration of the EM algorithm.\u001b[39;00m\n\u001b[1;32m    194\u001b[0m \u001b[38;5;124;03m\"\"\"\u001b[39;00m\n\u001b[1;32m    195\u001b[0m \u001b[38;5;28mself\u001b[39m\u001b[38;5;241m.\u001b[39mexpectation()\n\u001b[0;32m--> 196\u001b[0m \u001b[38;5;28mself\u001b[39m\u001b[38;5;241m.\u001b[39mmaximization()\n\u001b[1;32m    197\u001b[0m \u001b[38;5;28mself\u001b[39m\u001b[38;5;241m.\u001b[39miteration \u001b[38;5;241m+\u001b[39m\u001b[38;5;241m=\u001b[39m \u001b[38;5;241m1\u001b[39m\n",
      "File \u001b[0;32m/media/data3/sj/Code/CPD-Pytorch/torchcpd/emregistration.py:220\u001b[0m, in \u001b[0;36mEMRegistration.maximization\u001b[0;34m(self)\u001b[0m\n\u001b[1;32m    216\u001b[0m \u001b[38;5;28;01mdef\u001b[39;00m \u001b[38;5;21mmaximization\u001b[39m(\u001b[38;5;28mself\u001b[39m):\n\u001b[1;32m    217\u001b[0m \u001b[38;5;250m    \u001b[39m\u001b[38;5;124;03m\"\"\"\u001b[39;00m\n\u001b[1;32m    218\u001b[0m \u001b[38;5;124;03m    Compute the maximization step of the EM algorithm.\u001b[39;00m\n\u001b[1;32m    219\u001b[0m \u001b[38;5;124;03m    \"\"\"\u001b[39;00m\n\u001b[0;32m--> 220\u001b[0m     \u001b[38;5;28mself\u001b[39m\u001b[38;5;241m.\u001b[39mupdate_transform()\n\u001b[1;32m    221\u001b[0m     \u001b[38;5;28mself\u001b[39m\u001b[38;5;241m.\u001b[39mtransform_point_cloud()\n\u001b[1;32m    222\u001b[0m     \u001b[38;5;28mself\u001b[39m\u001b[38;5;241m.\u001b[39mupdate_variance()\n",
      "File \u001b[0;32m/media/data3/sj/Code/CPD-Pytorch/torchcpd/rigidReg.py:77\u001b[0m, in \u001b[0;36mRigidRegistration.update_transform\u001b[0;34m(self)\u001b[0m\n\u001b[1;32m     74\u001b[0m Y_hat \u001b[38;5;241m=\u001b[39m th\u001b[38;5;241m.\u001b[39msub(\u001b[38;5;28mself\u001b[39m\u001b[38;5;241m.\u001b[39mY, th\u001b[38;5;241m.\u001b[39mtile(muY, (\u001b[38;5;28mself\u001b[39m\u001b[38;5;241m.\u001b[39mM, \u001b[38;5;241m1\u001b[39m)))\n\u001b[1;32m     75\u001b[0m \u001b[38;5;28mself\u001b[39m\u001b[38;5;241m.\u001b[39mYPY \u001b[38;5;241m=\u001b[39m th\u001b[38;5;241m.\u001b[39mmm(\u001b[38;5;28mself\u001b[39m\u001b[38;5;241m.\u001b[39mP1\u001b[38;5;241m.\u001b[39mpermute(\u001b[38;5;241m1\u001b[39m, \u001b[38;5;241m0\u001b[39m), th\u001b[38;5;241m.\u001b[39msum(th\u001b[38;5;241m.\u001b[39mmul(Y_hat, Y_hat), dim\u001b[38;5;241m=\u001b[39m\u001b[38;5;241m1\u001b[39m)\u001b[38;5;241m.\u001b[39mreshape(\u001b[38;5;241m-\u001b[39m\u001b[38;5;241m1\u001b[39m, \u001b[38;5;241m1\u001b[39m))\u001b[38;5;241m.\u001b[39mreshape(\u001b[38;5;241m-\u001b[39m\u001b[38;5;241m1\u001b[39m, )\n\u001b[0;32m---> 77\u001b[0m \u001b[38;5;28mself\u001b[39m\u001b[38;5;241m.\u001b[39mA \u001b[38;5;241m=\u001b[39m th\u001b[38;5;241m.\u001b[39mmm(\u001b[38;5;28mself\u001b[39m\u001b[38;5;241m.\u001b[39mX_hat\u001b[38;5;241m.\u001b[39mpermute(\u001b[38;5;241m1\u001b[39m, \u001b[38;5;241m0\u001b[39m), \u001b[38;5;28mself\u001b[39m\u001b[38;5;241m.\u001b[39mP\u001b[38;5;241m.\u001b[39mpermute(\u001b[38;5;241m1\u001b[39m, \u001b[38;5;241m0\u001b[39m))\u001b[38;5;241m.\u001b[39mto(\u001b[38;5;28mself\u001b[39m\u001b[38;5;241m.\u001b[39mdevice)\n\u001b[1;32m     78\u001b[0m \u001b[38;5;28mself\u001b[39m\u001b[38;5;241m.\u001b[39mA \u001b[38;5;241m=\u001b[39m th\u001b[38;5;241m.\u001b[39mmm(\u001b[38;5;28mself\u001b[39m\u001b[38;5;241m.\u001b[39mA, Y_hat)\n\u001b[1;32m     80\u001b[0m \u001b[38;5;66;03m# Singular value decomposition as per lemma 1 of https://arxiv.org/pdf/0905.2635.pdf.\u001b[39;00m\n",
      "\u001b[0;31mKeyboardInterrupt\u001b[0m: "
     ]
    }
   ],
   "source": [
    "def align_surface_rigid(moving_surface: pv.PolyData, moving_point_cloud: pv.PolyData, fixed_point_cloud: pv.PolyData) -> pv.PolyData:\n",
    "    \"\"\"Align two surfaces using rigid transformation\"\"\"\n",
    "    source_points = moving_point_cloud.points\n",
    "    target_points = fixed_point_cloud.points\n",
    "    res = moving_surface.copy()\n",
    "    reg = torchcpd.RigidRegistration(X=target_points[::20], Y=source_points[::20], device='cuda', scale=False)\n",
    "    _, (s, R, t) = reg.register()\n",
    "    # handel nan in translation:\n",
    "    if torch.isnan(t).any():\n",
    "        logging.error(f\"NaN in translation, vtk_file: {mov_vtk_file}\")\n",
    "        t = torch.zeros(3, device='cuda')\n",
    "\n",
    "    res.points = reg.transform_point_cloud(torch.tensor(moving_surface.points, device='cuda')).cpu().numpy()\n",
    "    return res\n",
    "\n",
    "fix_case_name = sorted(surface_vtk_files.keys())[0]\n",
    "fix_case_files = surface_vtk_files[fix_case_name].copy()\n",
    "del surface_vtk_files[fix_case_name]\n",
    "print(f\"{fix_case_name=}\")\n",
    "\n",
    "for phase in tqdm(range(10), desc=\"Processing phases\"):\n",
    "    fix_vtk_file = fix_case_files[phase]\n",
    "    fix_surface = pv.read(fix_vtk_file)\n",
    "    new_fix_vtk_file = aligned_vtk_dir / fix_vtk_file.relative_to(vtk_dir)\n",
    "    new_fix_vtk_file.parent.mkdir(parents=True, exist_ok=True)\n",
    "    fix_surface.save(new_fix_vtk_file)\n",
    "    fix_point_cloud = pv.read(volume_points_cloud_dir / fix_vtk_file.relative_to(vtk_dir))\n",
    "    for case_name, case_files in tqdm(surface_vtk_files.items(), desc=\"Processing cases\"):\n",
    "        mov_vtk_file = case_files[phase]\n",
    "        mov_surface = pv.read(mov_vtk_file)\n",
    "        mov_point_cloud = pv.read(volume_points_cloud_dir / mov_vtk_file.relative_to(vtk_dir))\n",
    "        mov_surface = align_surface_rigid(\n",
    "            moving_surface=mov_surface,\n",
    "            moving_point_cloud=mov_point_cloud,\n",
    "            fixed_point_cloud=fix_point_cloud\n",
    "        )\n",
    "        new_vtk_file = aligned_vtk_dir / mov_vtk_file.relative_to(vtk_dir)\n",
    "        new_vtk_file.parent.mkdir(parents=True, exist_ok=True)\n",
    "        mov_surface.save(new_vtk_file)\n",
    "    "
   ]
  }
 ],
 "metadata": {
  "kernelspec": {
   "display_name": "torch",
   "language": "python",
   "name": "python3"
  },
  "language_info": {
   "codemirror_mode": {
    "name": "ipython",
    "version": 3
   },
   "file_extension": ".py",
   "mimetype": "text/x-python",
   "name": "python",
   "nbconvert_exporter": "python",
   "pygments_lexer": "ipython3",
   "version": "3.12.9"
  }
 },
 "nbformat": 4,
 "nbformat_minor": 5
}
